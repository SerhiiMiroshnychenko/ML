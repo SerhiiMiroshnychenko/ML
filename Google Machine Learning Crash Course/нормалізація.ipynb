{
 "cells": [
  {
   "metadata": {},
   "cell_type": "markdown",
   "source": "# Числові дані: нормалізація",
   "id": "e18b7ecef87e2417"
  },
  {
   "metadata": {},
   "cell_type": "markdown",
   "source": [
    "## Лінійне масштабування\n",
    "Лінійне масштабування (частіше скорочується просто до масштабування) означає перетворення значень із рухомою комою з їх звичайного діапазону в стандартний (типові – від 0 до 1 або від –1 до +1)."
   ],
   "id": "56a916092be5fbfb"
  },
  {
   "metadata": {},
   "cell_type": "markdown",
   "source": [
    "Лінійне масштабування – гарний вибір, якщо виконуються всі умови, наведені нижче.\n",
    "\n",
    "* Нижня й верхня межі даних не дуже змінюються із часом.\n",
    "* Ознака містить небагато викидів або їх немає взагалі, і вони не екстремальні.\n",
    "* Ознака приблизно рівномірно розподілена по всьому діапазону, тобто гістограма показала б приблизно однакові стовпчики для більшості значень."
   ],
   "id": "b1ee24723f722fe6"
  },
  {
   "metadata": {},
   "cell_type": "markdown",
   "source": [
    "```\n",
    "Більшість реальних ознак не відповідають усім критеріям лінійного масштабування. Кращим методом нормалізації, ніж лінійне масштабування, зазвичай є масштабування за Z-оцінкою.\n",
    "```"
   ],
   "id": "216efcc402e6d0ba"
  },
  {
   "metadata": {},
   "cell_type": "markdown",
   "source": [
    "Використовуйте формулу, наведену нижче, щоб масштабувати дані до стандартного діапазону від 0 до 1 включно:\n",
    "\n",
    "$$x' = (x - x_{min}) / (x_{max} - x_{min})$$\n",
    "\n",
    "де:\n",
    "\n",
    "* $x'$ – масштабоване значення;\n",
    "* $x$ – початкове значення;\n",
    "* $x_{min}$ – найменше значення з набору даних цієї ознаки;\n",
    "* $x_{max}$ – найбільше значення з набору даних цієї ознаки."
   ],
   "id": "4f6896359d627539"
  },
  {
   "cell_type": "code",
   "id": "initial_id",
   "metadata": {
    "collapsed": true,
    "ExecuteTime": {
     "end_time": "2025-06-04T11:23:05.783282Z",
     "start_time": "2025-06-04T11:23:05.769115Z"
    }
   },
   "source": "data = [1, 2, 30, 4, 5, 6, 7, 8, 9, 100, 9, 8, 7, 6, 50, 4, 3, 2, 1]",
   "outputs": [],
   "execution_count": 142
  },
  {
   "metadata": {
    "ExecuteTime": {
     "end_time": "2025-06-04T11:23:05.798618Z",
     "start_time": "2025-06-04T11:23:05.795236Z"
    }
   },
   "cell_type": "code",
   "source": [
    "def scaling(array):\n",
    "    scaled_array = []\n",
    "    x_min = min(array)\n",
    "    delta_x = max(array) - x_min\n",
    "    for x in array:\n",
    "        x1 = (x - x_min) / delta_x\n",
    "        scaled_array.append(x1)\n",
    "    return scaled_array"
   ],
   "id": "e6d9cdc2ed455c4c",
   "outputs": [],
   "execution_count": 143
  },
  {
   "metadata": {
    "ExecuteTime": {
     "end_time": "2025-06-04T11:23:05.830561Z",
     "start_time": "2025-06-04T11:23:05.815110Z"
    }
   },
   "cell_type": "code",
   "source": "scaled_data = scaling(data)",
   "id": "da127991e34cb5f6",
   "outputs": [],
   "execution_count": 144
  },
  {
   "metadata": {
    "ExecuteTime": {
     "end_time": "2025-06-04T11:23:05.845505Z",
     "start_time": "2025-06-04T11:23:05.839486Z"
    }
   },
   "cell_type": "code",
   "source": "print(scaled_data)",
   "id": "c8b3c55d1ba027a7",
   "outputs": [
    {
     "name": "stdout",
     "output_type": "stream",
     "text": [
      "[0.0, 0.010101010101010102, 0.29292929292929293, 0.030303030303030304, 0.04040404040404041, 0.050505050505050504, 0.06060606060606061, 0.0707070707070707, 0.08080808080808081, 1.0, 0.08080808080808081, 0.0707070707070707, 0.06060606060606061, 0.050505050505050504, 0.494949494949495, 0.030303030303030304, 0.020202020202020204, 0.010101010101010102, 0.0]\n"
     ]
    }
   ],
   "execution_count": 145
  },
  {
   "metadata": {
    "ExecuteTime": {
     "end_time": "2025-06-04T11:23:05.861450Z",
     "start_time": "2025-06-04T11:23:05.853926Z"
    }
   },
   "cell_type": "code",
   "source": "import pandas as pd",
   "id": "ef4c5f15185037bc",
   "outputs": [],
   "execution_count": 146
  },
  {
   "metadata": {
    "ExecuteTime": {
     "end_time": "2025-06-04T11:23:05.892157Z",
     "start_time": "2025-06-04T11:23:05.874733Z"
    }
   },
   "cell_type": "code",
   "source": [
    "df_data = pd.DataFrame(data)\n",
    "print(f\"{df_data = }\")"
   ],
   "id": "c92aea186c6cb85",
   "outputs": [
    {
     "name": "stdout",
     "output_type": "stream",
     "text": [
      "df_data =       0\n",
      "0     1\n",
      "1     2\n",
      "2    30\n",
      "3     4\n",
      "4     5\n",
      "5     6\n",
      "6     7\n",
      "7     8\n",
      "8     9\n",
      "9   100\n",
      "10    9\n",
      "11    8\n",
      "12    7\n",
      "13    6\n",
      "14   50\n",
      "15    4\n",
      "16    3\n",
      "17    2\n",
      "18    1\n"
     ]
    }
   ],
   "execution_count": 147
  },
  {
   "metadata": {
    "ExecuteTime": {
     "end_time": "2025-06-04T11:23:05.923011Z",
     "start_time": "2025-06-04T11:23:05.907032Z"
    }
   },
   "cell_type": "code",
   "source": [
    "df_scaled_data = pd.DataFrame(scaled_data)\n",
    "print(f\"{df_scaled_data = }\")"
   ],
   "id": "1c6218f93abf8800",
   "outputs": [
    {
     "name": "stdout",
     "output_type": "stream",
     "text": [
      "df_scaled_data =            0\n",
      "0   0.000000\n",
      "1   0.010101\n",
      "2   0.292929\n",
      "3   0.030303\n",
      "4   0.040404\n",
      "5   0.050505\n",
      "6   0.060606\n",
      "7   0.070707\n",
      "8   0.080808\n",
      "9   1.000000\n",
      "10  0.080808\n",
      "11  0.070707\n",
      "12  0.060606\n",
      "13  0.050505\n",
      "14  0.494949\n",
      "15  0.030303\n",
      "16  0.020202\n",
      "17  0.010101\n",
      "18  0.000000\n"
     ]
    }
   ],
   "execution_count": 148
  },
  {
   "metadata": {
    "ExecuteTime": {
     "end_time": "2025-06-04T11:23:06.062777Z",
     "start_time": "2025-06-04T11:23:05.938734Z"
    }
   },
   "cell_type": "code",
   "source": "df_data.plot.bar()",
   "id": "e320d6d24e62ede5",
   "outputs": [
    {
     "data": {
      "text/plain": [
       "<Axes: >"
      ]
     },
     "execution_count": 149,
     "metadata": {},
     "output_type": "execute_result"
    },
    {
     "data": {
      "text/plain": [
       "<Figure size 640x480 with 1 Axes>"
      ],
      "image/png": "[encoded data removed]"
     },
     "metadata": {},
     "output_type": "display_data"
    }
   ],
   "execution_count": 149
  },
  {
   "metadata": {
    "ExecuteTime": {
     "end_time": "2025-06-04T11:23:06.216766Z",
     "start_time": "2025-06-04T11:23:06.070055Z"
    }
   },
   "cell_type": "code",
   "source": "df_scaled_data.plot.bar()",
   "id": "edaa967efe67e03a",
   "outputs": [
    {
     "data": {
      "text/plain": [
       "<Axes: >"
      ]
     },
     "execution_count": 150,
     "metadata": {},
     "output_type": "execute_result"
    },
    {
     "data": {
      "text/plain": [
       "<Figure size 640x480 with 1 Axes>"
      ],
      "image/png": "[encoded data removed]"
     },
     "metadata": {},
     "output_type": "display_data"
    }
   ],
   "execution_count": 150
  },
  {
   "metadata": {},
   "cell_type": "markdown",
   "source": [
    "## Масштабування за Z-оцінкою\n",
    "Значення Z – це кількість стандартних відхилень, на які число більше чи менше за середнє значення. Наприклад, число, яке на 2 стандартні відхилення більше за середнє, має значення Z +2,0. Число, яке на 1,5 стандартного відхилення менше за середнє, має значення Z –1,5.\n",
    "\n",
    "Представити ознаку за допомогою масштабування за Z-оцінкою – це зберегти її значення Z у векторі ознак."
   ],
   "id": "b225ee7947bade7f"
  },
  {
   "metadata": {},
   "cell_type": "markdown",
   "source": [
    "Використовуйте формулу, наведену нижче, щоб нормалізувати $x$ до значення $Z$:\n",
    "\n",
    "$$x' = (x - \\mu) / \\sigma$$\n",
    "\n",
    "де:\n",
    "\n",
    "* $x'$ – значення $Z$;\n",
    "* $x$ – необроблене значення (тобто $x$ – це число, яке нормалізується);\n",
    "* $\\mu$ – середнє значення;\n",
    "* $\\sigma$ – стандартне відхилення."
   ],
   "id": "5bbaea9c8e26cdfe"
  },
  {
   "metadata": {
    "ExecuteTime": {
     "end_time": "2025-06-04T11:23:06.247848Z",
     "start_time": "2025-06-04T11:23:06.234630Z"
    }
   },
   "cell_type": "code",
   "source": [
    "def z_scaling(array):\n",
    "    df_array = pd.DataFrame(array)\n",
    "    scaled_array = []\n",
    "    x_mean = df_array.mean()\n",
    "    print(f\"{x_mean = }\")\n",
    "    x_std = df_array.std()\n",
    "    print(f\"{x_std = }\")\n",
    "    for x in array:\n",
    "        x1 = (x - x_mean) / x_std\n",
    "        scaled_array.append(x1)\n",
    "    return pd.DataFrame(scaled_array)"
   ],
   "id": "30d5e65fd4652ec3",
   "outputs": [],
   "execution_count": 151
  },
  {
   "metadata": {
    "ExecuteTime": {
     "end_time": "2025-06-04T11:23:06.278691Z",
     "start_time": "2025-06-04T11:23:06.263258Z"
    }
   },
   "cell_type": "code",
   "source": [
    "df_z_scaled_data = z_scaling(data)\n",
    "print(f\"{df_z_scaled_data = }\")"
   ],
   "id": "699c84b64ac0be3a",
   "outputs": [
    {
     "name": "stdout",
     "output_type": "stream",
     "text": [
      "x_mean = 0    13.789474\n",
      "dtype: float64\n",
      "x_std = 0    23.948043\n",
      "dtype: float64\n",
      "df_z_scaled_data =            0\n",
      "0  -0.534051\n",
      "1  -0.492294\n",
      "2   0.676904\n",
      "3  -0.408780\n",
      "4  -0.367023\n",
      "5  -0.325266\n",
      "6  -0.283508\n",
      "7  -0.241751\n",
      "8  -0.199994\n",
      "9   3.599899\n",
      "10 -0.199994\n",
      "11 -0.241751\n",
      "12 -0.283508\n",
      "13 -0.325266\n",
      "14  1.512045\n",
      "15 -0.408780\n",
      "16 -0.450537\n",
      "17 -0.492294\n",
      "18 -0.534051\n"
     ]
    }
   ],
   "execution_count": 152
  },
  {
   "metadata": {
    "ExecuteTime": {
     "end_time": "2025-06-04T11:23:06.309006Z",
     "start_time": "2025-06-04T11:23:06.290870Z"
    }
   },
   "cell_type": "code",
   "source": "df_z_scaled_data",
   "id": "38106900bc32fb2f",
   "outputs": [
    {
     "data": {
      "text/plain": [
       "           0\n",
       "0  -0.534051\n",
       "1  -0.492294\n",
       "2   0.676904\n",
       "3  -0.408780\n",
       "4  -0.367023\n",
       "5  -0.325266\n",
       "6  -0.283508\n",
       "7  -0.241751\n",
       "8  -0.199994\n",
       "9   3.599899\n",
       "10 -0.199994\n",
       "11 -0.241751\n",
       "12 -0.283508\n",
       "13 -0.325266\n",
       "14  1.512045\n",
       "15 -0.408780\n",
       "16 -0.450537\n",
       "17 -0.492294\n",
       "18 -0.534051"
      ],
      "text/html": [
       "<div>\n",
       "<style scoped>\n",
       "    .dataframe tbody tr th:only-of-type {\n",
       "        vertical-align: middle;\n",
       "    }\n",
       "\n",
       "    .dataframe tbody tr th {\n",
       "        vertical-align: top;\n",
       "    }\n",
       "\n",
       "    .dataframe thead th {\n",
       "        text-align: right;\n",
       "    }\n",
       "</style>\n",
       "<table border=\"1\" class=\"dataframe\">\n",
       "  <thead>\n",
       "    <tr style=\"text-align: right;\">\n",
       "      <th></th>\n",
       "      <th>0</th>\n",
       "    </tr>\n",
       "  </thead>\n",
       "  <tbody>\n",
       "    <tr>\n",
       "      <th>0</th>\n",
       "      <td>-0.534051</td>\n",
       "    </tr>\n",
       "    <tr>\n",
       "      <th>1</th>\n",
       "      <td>-0.492294</td>\n",
       "    </tr>\n",
       "    <tr>\n",
       "      <th>2</th>\n",
       "      <td>0.676904</td>\n",
       "    </tr>\n",
       "    <tr>\n",
       "      <th>3</th>\n",
       "      <td>-0.408780</td>\n",
       "    </tr>\n",
       "    <tr>\n",
       "      <th>4</th>\n",
       "      <td>-0.367023</td>\n",
       "    </tr>\n",
       "    <tr>\n",
       "      <th>5</th>\n",
       "      <td>-0.325266</td>\n",
       "    </tr>\n",
       "    <tr>\n",
       "      <th>6</th>\n",
       "      <td>-0.283508</td>\n",
       "    </tr>\n",
       "    <tr>\n",
       "      <th>7</th>\n",
       "      <td>-0.241751</td>\n",
       "    </tr>\n",
       "    <tr>\n",
       "      <th>8</th>\n",
       "      <td>-0.199994</td>\n",
       "    </tr>\n",
       "    <tr>\n",
       "      <th>9</th>\n",
       "      <td>3.599899</td>\n",
       "    </tr>\n",
       "    <tr>\n",
       "      <th>10</th>\n",
       "      <td>-0.199994</td>\n",
       "    </tr>\n",
       "    <tr>\n",
       "      <th>11</th>\n",
       "      <td>-0.241751</td>\n",
       "    </tr>\n",
       "    <tr>\n",
       "      <th>12</th>\n",
       "      <td>-0.283508</td>\n",
       "    </tr>\n",
       "    <tr>\n",
       "      <th>13</th>\n",
       "      <td>-0.325266</td>\n",
       "    </tr>\n",
       "    <tr>\n",
       "      <th>14</th>\n",
       "      <td>1.512045</td>\n",
       "    </tr>\n",
       "    <tr>\n",
       "      <th>15</th>\n",
       "      <td>-0.408780</td>\n",
       "    </tr>\n",
       "    <tr>\n",
       "      <th>16</th>\n",
       "      <td>-0.450537</td>\n",
       "    </tr>\n",
       "    <tr>\n",
       "      <th>17</th>\n",
       "      <td>-0.492294</td>\n",
       "    </tr>\n",
       "    <tr>\n",
       "      <th>18</th>\n",
       "      <td>-0.534051</td>\n",
       "    </tr>\n",
       "  </tbody>\n",
       "</table>\n",
       "</div>"
      ]
     },
     "execution_count": 153,
     "metadata": {},
     "output_type": "execute_result"
    }
   ],
   "execution_count": 153
  },
  {
   "metadata": {
    "ExecuteTime": {
     "end_time": "2025-06-04T11:23:06.447579Z",
     "start_time": "2025-06-04T11:23:06.317363Z"
    }
   },
   "cell_type": "code",
   "source": "df_z_scaled_data.plot.bar()",
   "id": "29306d26f80bb255",
   "outputs": [
    {
     "data": {
      "text/plain": [
       "<Axes: >"
      ]
     },
     "execution_count": 154,
     "metadata": {},
     "output_type": "execute_result"
    },
    {
     "data": {
      "text/plain": [
       "<Figure size 640x480 with 1 Axes>"
      ],
      "image/png": "[encoded data removed]"
     },
     "metadata": {},
     "output_type": "display_data"
    }
   ],
   "execution_count": 154
  },
  {
   "metadata": {
    "ExecuteTime": {
     "end_time": "2025-06-04T11:23:06.462371Z",
     "start_time": "2025-06-04T11:23:06.458364Z"
    }
   },
   "cell_type": "code",
   "source": "from scipy.stats import zscore",
   "id": "433d9581ea608b03",
   "outputs": [],
   "execution_count": 155
  },
  {
   "metadata": {
    "ExecuteTime": {
     "end_time": "2025-06-04T11:23:06.492984Z",
     "start_time": "2025-06-04T11:23:06.481851Z"
    }
   },
   "cell_type": "code",
   "source": "df_zscore_data = pd.DataFrame(zscore(df_data))",
   "id": "22915a72dee09b57",
   "outputs": [],
   "execution_count": 156
  },
  {
   "metadata": {
    "ExecuteTime": {
     "end_time": "2025-06-04T11:23:06.508935Z",
     "start_time": "2025-06-04T11:23:06.500945Z"
    }
   },
   "cell_type": "code",
   "source": "df_zscore_data",
   "id": "7cecd8c1eeb4b6dc",
   "outputs": [
    {
     "data": {
      "text/plain": [
       "           0\n",
       "0  -0.548685\n",
       "1  -0.505784\n",
       "2   0.695453\n",
       "3  -0.419981\n",
       "4  -0.377080\n",
       "5  -0.334179\n",
       "6  -0.291277\n",
       "7  -0.248376\n",
       "8  -0.205475\n",
       "9   3.698544\n",
       "10 -0.205475\n",
       "11 -0.248376\n",
       "12 -0.291277\n",
       "13 -0.334179\n",
       "14  1.553479\n",
       "15 -0.419981\n",
       "16 -0.462883\n",
       "17 -0.505784\n",
       "18 -0.548685"
      ],
      "text/html": [
       "<div>\n",
       "<style scoped>\n",
       "    .dataframe tbody tr th:only-of-type {\n",
       "        vertical-align: middle;\n",
       "    }\n",
       "\n",
       "    .dataframe tbody tr th {\n",
       "        vertical-align: top;\n",
       "    }\n",
       "\n",
       "    .dataframe thead th {\n",
       "        text-align: right;\n",
       "    }\n",
       "</style>\n",
       "<table border=\"1\" class=\"dataframe\">\n",
       "  <thead>\n",
       "    <tr style=\"text-align: right;\">\n",
       "      <th></th>\n",
       "      <th>0</th>\n",
       "    </tr>\n",
       "  </thead>\n",
       "  <tbody>\n",
       "    <tr>\n",
       "      <th>0</th>\n",
       "      <td>-0.548685</td>\n",
       "    </tr>\n",
       "    <tr>\n",
       "      <th>1</th>\n",
       "      <td>-0.505784</td>\n",
       "    </tr>\n",
       "    <tr>\n",
       "      <th>2</th>\n",
       "      <td>0.695453</td>\n",
       "    </tr>\n",
       "    <tr>\n",
       "      <th>3</th>\n",
       "      <td>-0.419981</td>\n",
       "    </tr>\n",
       "    <tr>\n",
       "      <th>4</th>\n",
       "      <td>-0.377080</td>\n",
       "    </tr>\n",
       "    <tr>\n",
       "      <th>5</th>\n",
       "      <td>-0.334179</td>\n",
       "    </tr>\n",
       "    <tr>\n",
       "      <th>6</th>\n",
       "      <td>-0.291277</td>\n",
       "    </tr>\n",
       "    <tr>\n",
       "      <th>7</th>\n",
       "      <td>-0.248376</td>\n",
       "    </tr>\n",
       "    <tr>\n",
       "      <th>8</th>\n",
       "      <td>-0.205475</td>\n",
       "    </tr>\n",
       "    <tr>\n",
       "      <th>9</th>\n",
       "      <td>3.698544</td>\n",
       "    </tr>\n",
       "    <tr>\n",
       "      <th>10</th>\n",
       "      <td>-0.205475</td>\n",
       "    </tr>\n",
       "    <tr>\n",
       "      <th>11</th>\n",
       "      <td>-0.248376</td>\n",
       "    </tr>\n",
       "    <tr>\n",
       "      <th>12</th>\n",
       "      <td>-0.291277</td>\n",
       "    </tr>\n",
       "    <tr>\n",
       "      <th>13</th>\n",
       "      <td>-0.334179</td>\n",
       "    </tr>\n",
       "    <tr>\n",
       "      <th>14</th>\n",
       "      <td>1.553479</td>\n",
       "    </tr>\n",
       "    <tr>\n",
       "      <th>15</th>\n",
       "      <td>-0.419981</td>\n",
       "    </tr>\n",
       "    <tr>\n",
       "      <th>16</th>\n",
       "      <td>-0.462883</td>\n",
       "    </tr>\n",
       "    <tr>\n",
       "      <th>17</th>\n",
       "      <td>-0.505784</td>\n",
       "    </tr>\n",
       "    <tr>\n",
       "      <th>18</th>\n",
       "      <td>-0.548685</td>\n",
       "    </tr>\n",
       "  </tbody>\n",
       "</table>\n",
       "</div>"
      ]
     },
     "execution_count": 157,
     "metadata": {},
     "output_type": "execute_result"
    }
   ],
   "execution_count": 157
  },
  {
   "metadata": {
    "ExecuteTime": {
     "end_time": "2025-06-04T11:23:06.663850Z",
     "start_time": "2025-06-04T11:23:06.528427Z"
    }
   },
   "cell_type": "code",
   "source": "df_zscore_data.plot.bar()",
   "id": "7b54eef1c025a9f",
   "outputs": [
    {
     "data": {
      "text/plain": [
       "<Axes: >"
      ]
     },
     "execution_count": 158,
     "metadata": {},
     "output_type": "execute_result"
    },
    {
     "data": {
      "text/plain": [
       "<Figure size 640x480 with 1 Axes>"
      ],
      "image/png": "[encoded data removed]"
     },
     "metadata": {},
     "output_type": "display_data"
    }
   ],
   "execution_count": 158
  },
  {
   "metadata": {},
   "cell_type": "markdown",
   "source": [
    "## Логарифмічне масштабування\n",
    "У логарифмічному масштабуванні обчислюється логарифм необробленого значення. Теоретично логарифм може мати будь-яку основу; на практиці логарифмічне масштабування зазвичай обчислює натуральний логарифм (ln)."
   ],
   "id": "9d09bf59cee974b4"
  },
  {
   "metadata": {},
   "cell_type": "markdown",
   "source": [
    "Використовуйте формулу, наведену нижче, щоб нормалізувати значення $x$ до його логарифма:\n",
    "\n",
    "$$x' = \\ln(x)$$\n",
    "\n",
    "де:\n",
    "\n",
    "* $x'$ – натуральний логарифм $x$;"
   ],
   "id": "aafa8f2be855ba60"
  },
  {
   "metadata": {
    "ExecuteTime": {
     "end_time": "2025-06-04T11:23:06.694663Z",
     "start_time": "2025-06-04T11:23:06.678274Z"
    }
   },
   "cell_type": "code",
   "source": "import math",
   "id": "757dcc99eb420246",
   "outputs": [],
   "execution_count": 159
  },
  {
   "metadata": {
    "ExecuteTime": {
     "end_time": "2025-06-04T11:23:06.710169Z",
     "start_time": "2025-06-04T11:23:06.701124Z"
    }
   },
   "cell_type": "code",
   "source": [
    "def ln_scaling(array):\n",
    "    return [math.log(x) for x in array]"
   ],
   "id": "346d36b8bc8875c9",
   "outputs": [],
   "execution_count": 160
  },
  {
   "metadata": {
    "ExecuteTime": {
     "end_time": "2025-06-04T11:23:06.725760Z",
     "start_time": "2025-06-04T11:23:06.717490Z"
    }
   },
   "cell_type": "code",
   "source": "print(ln_scaling([54.598, 100, 1000000]))\n",
   "id": "328c265372a5f879",
   "outputs": [
    {
     "name": "stdout",
     "output_type": "stream",
     "text": [
      "[3.9999972520433333, 4.605170185988092, 13.815510557964274]\n"
     ]
    }
   ],
   "execution_count": 161
  },
  {
   "metadata": {
    "ExecuteTime": {
     "end_time": "2025-06-04T11:23:06.740925Z",
     "start_time": "2025-06-04T11:23:06.733283Z"
    }
   },
   "cell_type": "code",
   "source": "df_ln_scaled_data = pd.DataFrame(ln_scaling(data))",
   "id": "326dd8c81a8ed371",
   "outputs": [],
   "execution_count": 162
  },
  {
   "metadata": {
    "ExecuteTime": {
     "end_time": "2025-06-04T11:23:06.877786Z",
     "start_time": "2025-06-04T11:23:06.753351Z"
    }
   },
   "cell_type": "code",
   "source": "df_ln_scaled_data.plot.bar()",
   "id": "e16c3b19a3cd811b",
   "outputs": [
    {
     "data": {
      "text/plain": [
       "<Axes: >"
      ]
     },
     "execution_count": 163,
     "metadata": {},
     "output_type": "execute_result"
    },
    {
     "data": {
      "text/plain": [
       "<Figure size 640x480 with 1 Axes>"
      ],
      "image/png": "[encoded data removed]"
     },
     "metadata": {},
     "output_type": "display_data"
    }
   ],
   "execution_count": 163
  },
  {
   "metadata": {},
   "cell_type": "markdown",
   "source": [
    "## Clipping (Обрізання)\n",
    "Обрізання – це метод мінімізації впливу екстремальних викидів. Якщо коротко, обрізання зазвичай обмежує (зменшує) значення викидів до певного максимального значення. Ця ідея здається дивною, однак може бути дуже ефективною.\n"
   ],
   "id": "13055374a39c1a00"
  },
  {
   "metadata": {
    "ExecuteTime": {
     "end_time": "2025-06-04T11:23:06.893005Z",
     "start_time": "2025-06-04T11:23:06.886786Z"
    }
   },
   "cell_type": "code",
   "source": "import numpy as np",
   "id": "9f10b861ea6e3cdf",
   "outputs": [],
   "execution_count": 164
  },
  {
   "metadata": {
    "ExecuteTime": {
     "end_time": "2025-06-04T11:23:06.924291Z",
     "start_time": "2025-06-04T11:23:06.915557Z"
    }
   },
   "cell_type": "code",
   "source": [
    "np_clipped_data = np.clip(data, a_min=0, a_max=10)\n",
    "print(f\"{np_clipped_data = }\")\n"
   ],
   "id": "7243eafd5243f608",
   "outputs": [
    {
     "name": "stdout",
     "output_type": "stream",
     "text": [
      "np_clipped_data = array([ 1,  2, 10,  4,  5,  6,  7,  8,  9, 10,  9,  8,  7,  6, 10,  4,  3,\n",
      "        2,  1])\n"
     ]
    }
   ],
   "execution_count": 165
  },
  {
   "metadata": {
    "ExecuteTime": {
     "end_time": "2025-06-04T11:24:28.954194Z",
     "start_time": "2025-06-04T11:24:28.938416Z"
    }
   },
   "cell_type": "code",
   "source": "pd_clipped_data = df_data.clip(lower=0, upper=10)",
   "id": "4acc42e6faadf42e",
   "outputs": [],
   "execution_count": 167
  },
  {
   "metadata": {
    "ExecuteTime": {
     "end_time": "2025-06-04T11:27:06.679702Z",
     "start_time": "2025-06-04T11:27:06.666193Z"
    }
   },
   "cell_type": "code",
   "source": "pd_clipped_data",
   "id": "ab8b7512ade593c4",
   "outputs": [
    {
     "data": {
      "text/plain": [
       "     0\n",
       "0    1\n",
       "1    2\n",
       "2   10\n",
       "3    4\n",
       "4    5\n",
       "5    6\n",
       "6    7\n",
       "7    8\n",
       "8    9\n",
       "9   10\n",
       "10   9\n",
       "11   8\n",
       "12   7\n",
       "13   6\n",
       "14  10\n",
       "15   4\n",
       "16   3\n",
       "17   2\n",
       "18   1"
      ],
      "text/html": [
       "<div>\n",
       "<style scoped>\n",
       "    .dataframe tbody tr th:only-of-type {\n",
       "        vertical-align: middle;\n",
       "    }\n",
       "\n",
       "    .dataframe tbody tr th {\n",
       "        vertical-align: top;\n",
       "    }\n",
       "\n",
       "    .dataframe thead th {\n",
       "        text-align: right;\n",
       "    }\n",
       "</style>\n",
       "<table border=\"1\" class=\"dataframe\">\n",
       "  <thead>\n",
       "    <tr style=\"text-align: right;\">\n",
       "      <th></th>\n",
       "      <th>0</th>\n",
       "    </tr>\n",
       "  </thead>\n",
       "  <tbody>\n",
       "    <tr>\n",
       "      <th>0</th>\n",
       "      <td>1</td>\n",
       "    </tr>\n",
       "    <tr>\n",
       "      <th>1</th>\n",
       "      <td>2</td>\n",
       "    </tr>\n",
       "    <tr>\n",
       "      <th>2</th>\n",
       "      <td>10</td>\n",
       "    </tr>\n",
       "    <tr>\n",
       "      <th>3</th>\n",
       "      <td>4</td>\n",
       "    </tr>\n",
       "    <tr>\n",
       "      <th>4</th>\n",
       "      <td>5</td>\n",
       "    </tr>\n",
       "    <tr>\n",
       "      <th>5</th>\n",
       "      <td>6</td>\n",
       "    </tr>\n",
       "    <tr>\n",
       "      <th>6</th>\n",
       "      <td>7</td>\n",
       "    </tr>\n",
       "    <tr>\n",
       "      <th>7</th>\n",
       "      <td>8</td>\n",
       "    </tr>\n",
       "    <tr>\n",
       "      <th>8</th>\n",
       "      <td>9</td>\n",
       "    </tr>\n",
       "    <tr>\n",
       "      <th>9</th>\n",
       "      <td>10</td>\n",
       "    </tr>\n",
       "    <tr>\n",
       "      <th>10</th>\n",
       "      <td>9</td>\n",
       "    </tr>\n",
       "    <tr>\n",
       "      <th>11</th>\n",
       "      <td>8</td>\n",
       "    </tr>\n",
       "    <tr>\n",
       "      <th>12</th>\n",
       "      <td>7</td>\n",
       "    </tr>\n",
       "    <tr>\n",
       "      <th>13</th>\n",
       "      <td>6</td>\n",
       "    </tr>\n",
       "    <tr>\n",
       "      <th>14</th>\n",
       "      <td>10</td>\n",
       "    </tr>\n",
       "    <tr>\n",
       "      <th>15</th>\n",
       "      <td>4</td>\n",
       "    </tr>\n",
       "    <tr>\n",
       "      <th>16</th>\n",
       "      <td>3</td>\n",
       "    </tr>\n",
       "    <tr>\n",
       "      <th>17</th>\n",
       "      <td>2</td>\n",
       "    </tr>\n",
       "    <tr>\n",
       "      <th>18</th>\n",
       "      <td>1</td>\n",
       "    </tr>\n",
       "  </tbody>\n",
       "</table>\n",
       "</div>"
      ]
     },
     "execution_count": 168,
     "metadata": {},
     "output_type": "execute_result"
    }
   ],
   "execution_count": 168
  },
  {
   "metadata": {
    "ExecuteTime": {
     "end_time": "2025-06-04T11:34:33.139642Z",
     "start_time": "2025-06-04T11:34:33.135123Z"
    }
   },
   "cell_type": "code",
   "source": [
    "def clipped(array, x_min, x_max):\n",
    "    clipped_array = []\n",
    "    for x in array:\n",
    "        if x < x_min:\n",
    "            x1 = x_min\n",
    "        elif x > x_max:\n",
    "            x1 = x_max\n",
    "        else:\n",
    "            x1 = x\n",
    "        clipped_array.append(x1)\n",
    "    return clipped_array"
   ],
   "id": "492ae68469e687de",
   "outputs": [],
   "execution_count": 170
  },
  {
   "metadata": {
    "ExecuteTime": {
     "end_time": "2025-06-04T11:34:34.702391Z",
     "start_time": "2025-06-04T11:34:34.690830Z"
    }
   },
   "cell_type": "code",
   "source": [
    "clipped_data = clipped(data, x_min=0, x_max=10)\n",
    "print(f\"{clipped_data = }\")"
   ],
   "id": "6bd325b20c061be8",
   "outputs": [
    {
     "name": "stdout",
     "output_type": "stream",
     "text": [
      "clipped_data = [1, 2, 10, 4, 5, 6, 7, 8, 9, 10, 9, 8, 7, 6, 10, 4, 3, 2, 1]\n"
     ]
    }
   ],
   "execution_count": 171
  },
  {
   "metadata": {},
   "cell_type": "markdown",
   "source": "![](img.png)",
   "id": "4a7e9af64aec0cba"
  },
  {
   "metadata": {},
   "cell_type": "markdown",
   "source": [
    "# Числові дані: висновок\n",
    "\n",
    "---\n",
    "Якість моделі машинного навчання визначають її дані. Доречні дані сприяють належній роботі моделі, а невідповідні призводять до хибних прогнозів.\n",
    "\n",
    "Нижче наведено рекомендації щодо роботи із числовими даними.\n",
    "\n",
    "- Пам’ятайте, що модель машинного навчання взаємодіє з даними, які містяться у векторі ознак, а не в наборі даних.\n",
    "- Нормалізуйте більшість числових ознак.\n",
    "- Якщо перша стратегія нормалізації даних не принесла бажаного результату, виберіть іншу.\n",
    "- Групування (інша назва – сегментація) іноді є кращим методом, ніж нормалізація.\n",
    "- Подумайте, як мають виглядати ваші дані, і напишіть тести для перевірки, щоб підтвердити очікування. Перегляньте приклади нижче.\n",
    "    * Абсолютне значення широти ніколи не має перевищувати 90. Можна написати тест, щоб перевірити, чи є у ваших даних значення широти, більше за 90.\n",
    "    * Якщо дані стосуються лише штату Флорида, можна написати тести, щоб перевірити, чи широти знаходяться в межах від 24 до 31 включно.\n",
    "- Візуалізуйте дані за допомогою точкових діаграм і гістограм. Шукайте відхилення.\n",
    "- Збирайте статистичні дані не лише для цілого набору даних, але й для його менших підмножин. Це потрібно тому, що сукупна статистика іноді не показує проблеми, наявні в менших розділах набору даних.\n",
    "- Документуйте всі трансформації даних.\n",
    "\n",
    "---\n",
    "### Дані – ваш найцінніший ресурс, тому ставтеся до них дбайливо."
   ],
   "id": "d90d0544f37168db"
  }
 ],
 "metadata": {
  "kernelspec": {
   "display_name": "Python 3",
   "language": "python",
   "name": "python3"
  },
  "language_info": {
   "codemirror_mode": {
    "name": "ipython",
    "version": 2
   },
   "file_extension": ".py",
   "mimetype": "text/x-python",
   "name": "python",
   "nbconvert_exporter": "python",
   "pygments_lexer": "ipython2",
   "version": "2.7.6"
  }
 },
 "nbformat": 4,
 "nbformat_minor": 5
}
